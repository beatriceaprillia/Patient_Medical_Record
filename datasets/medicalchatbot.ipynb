{
 "metadata": {
  "colab": {
   "provenance": []
  },
  "kernelspec": {
   "name": "python3",
   "display_name": "Python 3",
   "language": "python"
  },
  "language_info": {
   "name": "python",
   "version": "3.10.12",
   "mimetype": "text/x-python",
   "codemirror_mode": {
    "name": "ipython",
    "version": 3
   },
   "pygments_lexer": "ipython3",
   "nbconvert_exporter": "python",
   "file_extension": ".py"
  }
 },
 "nbformat_minor": 4,
 "nbformat": 4,
 "cells": [
  {
   "cell_type": "code",
   "source": "import numpy as np\nimport pandas as pd\nimport tensorflow as tf\nimport matplotlib.pyplot as plt\nfrom sklearn.model_selection import train_test_split\n\nfrom tensorflow.keras.layers import LSTM, GRU, SimpleRNN, Embedding\nfrom tensorflow.keras.layers import Dense, Input, GlobalMaxPool1D\nfrom tensorflow.keras.preprocessing.text import Tokenizer\nfrom tensorflow.keras.preprocessing.sequence import pad_sequences\nfrom tensorflow.keras.layers import Dense,Input,GlobalMaxPooling1D\nfrom tensorflow.keras.layers import Conv1D, MaxPooling1D, Embedding\nfrom tensorflow.keras.models import Model\nfrom tensorflow.keras.losses import SparseCategoricalCrossentropy",
   "metadata": {
    "id": "9k5JAVmgt7t6",
    "execution": {
     "iopub.status.busy": "2023-12-14T12:44:03.062910Z",
     "iopub.execute_input": "2023-12-14T12:44:03.063414Z",
     "iopub.status.idle": "2023-12-14T12:44:03.073301Z",
     "shell.execute_reply.started": "2023-12-14T12:44:03.063377Z",
     "shell.execute_reply": "2023-12-14T12:44:03.071742Z"
    },
    "trusted": true,
    "ExecuteTime": {
     "end_time": "2024-04-25T21:54:25.057168Z",
     "start_time": "2024-04-25T21:54:21.680582Z"
    }
   },
   "outputs": [
    {
     "name": "stdout",
     "output_type": "stream",
     "text": [
      "WARNING:tensorflow:From C:\\Users\\irfan\\AppData\\Local\\Programs\\Python\\Python311\\Lib\\site-packages\\keras\\src\\losses.py:2976: The name tf.losses.sparse_softmax_cross_entropy is deprecated. Please use tf.compat.v1.losses.sparse_softmax_cross_entropy instead.\n",
      "\n"
     ]
    }
   ],
   "execution_count": 2
  },
  {
   "cell_type": "markdown",
   "source": "**Cancer Dataset**\n\nIn this project, I am employing two different models: CNN and RNN (LSTM), to analyze descriptions provided by doctors related to three different types of cancer.\n\nOverall, the dataset contains 7000 entries. However, I have chosen to work with only 4000 entries to expedite the training process.\n\nThe final conclusions are as follows:\n\n    Accuracy for CNN: 99%\n    Accuracy for LSTM: 95%\n\nIt's evident that the CNN model outperforms LSTM in text predictions.",
   "metadata": {}
  },
  {
   "cell_type": "code",
   "source": [
    "df = pd.read_csv('dataset.csv', header = None, encoding='latin1')\n",
    "\n",
    "df.head()\n"
   ],
   "metadata": {
    "id": "Su36IgFS60O9",
    "execution": {
     "iopub.status.busy": "2023-12-14T12:44:03.094028Z",
     "iopub.execute_input": "2023-12-14T12:44:03.094458Z",
     "iopub.status.idle": "2023-12-14T12:44:04.830368Z",
     "shell.execute_reply.started": "2023-12-14T12:44:03.094426Z",
     "shell.execute_reply": "2023-12-14T12:44:04.829180Z"
    },
    "trusted": true,
    "ExecuteTime": {
     "end_time": "2024-04-25T21:54:25.837834Z",
     "start_time": "2024-04-25T21:54:25.059172Z"
    }
   },
   "outputs": [
    {
     "data": {
      "text/plain": [
       "    0               1                                                  2\n",
       "0  S0  Thyroid_Cancer  Thyroid surgery in  children in a single insti...\n",
       "1   1  Thyroid_Cancer  \" The adopted strategy was the same as that us...\n",
       "2   2  Thyroid_Cancer  coronary arterybypass grafting thrombosis ï¬b...\n",
       "3   3  Thyroid_Cancer   Solitary plasmacytoma SP of the skull is an u...\n",
       "4   4  Thyroid_Cancer   This study aimed to investigate serum matrix ..."
      ],
      "text/html": [
       "<div>\n",
       "<style scoped>\n",
       "    .dataframe tbody tr th:only-of-type {\n",
       "        vertical-align: middle;\n",
       "    }\n",
       "\n",
       "    .dataframe tbody tr th {\n",
       "        vertical-align: top;\n",
       "    }\n",
       "\n",
       "    .dataframe thead th {\n",
       "        text-align: right;\n",
       "    }\n",
       "</style>\n",
       "<table border=\"1\" class=\"dataframe\">\n",
       "  <thead>\n",
       "    <tr style=\"text-align: right;\">\n",
       "      <th></th>\n",
       "      <th>0</th>\n",
       "      <th>1</th>\n",
       "      <th>2</th>\n",
       "    </tr>\n",
       "  </thead>\n",
       "  <tbody>\n",
       "    <tr>\n",
       "      <th>0</th>\n",
       "      <td>S0</td>\n",
       "      <td>Thyroid_Cancer</td>\n",
       "      <td>Thyroid surgery in  children in a single insti...</td>\n",
       "    </tr>\n",
       "    <tr>\n",
       "      <th>1</th>\n",
       "      <td>1</td>\n",
       "      <td>Thyroid_Cancer</td>\n",
       "      <td>\" The adopted strategy was the same as that us...</td>\n",
       "    </tr>\n",
       "    <tr>\n",
       "      <th>2</th>\n",
       "      <td>2</td>\n",
       "      <td>Thyroid_Cancer</td>\n",
       "      <td>coronary arterybypass grafting thrombosis ï¬b...</td>\n",
       "    </tr>\n",
       "    <tr>\n",
       "      <th>3</th>\n",
       "      <td>3</td>\n",
       "      <td>Thyroid_Cancer</td>\n",
       "      <td>Solitary plasmacytoma SP of the skull is an u...</td>\n",
       "    </tr>\n",
       "    <tr>\n",
       "      <th>4</th>\n",
       "      <td>4</td>\n",
       "      <td>Thyroid_Cancer</td>\n",
       "      <td>This study aimed to investigate serum matrix ...</td>\n",
       "    </tr>\n",
       "  </tbody>\n",
       "</table>\n",
       "</div>"
      ]
     },
     "execution_count": 3,
     "metadata": {},
     "output_type": "execute_result"
    }
   ],
   "execution_count": 3
  },
  {
   "cell_type": "code",
   "source": "df = df[[1,2]]",
   "metadata": {
    "execution": {
     "iopub.status.busy": "2023-12-14T12:44:04.832732Z",
     "iopub.execute_input": "2023-12-14T12:44:04.833258Z",
     "iopub.status.idle": "2023-12-14T12:44:04.839702Z",
     "shell.execute_reply.started": "2023-12-14T12:44:04.833218Z",
     "shell.execute_reply": "2023-12-14T12:44:04.838453Z"
    },
    "trusted": true,
    "ExecuteTime": {
     "end_time": "2024-04-25T21:54:25.842933Z",
     "start_time": "2024-04-25T21:54:25.838840Z"
    }
   },
   "outputs": [],
   "execution_count": 4
  },
  {
   "cell_type": "code",
   "source": "df.head()",
   "metadata": {
    "execution": {
     "iopub.status.busy": "2023-12-14T12:44:04.841620Z",
     "iopub.execute_input": "2023-12-14T12:44:04.842117Z",
     "iopub.status.idle": "2023-12-14T12:44:04.863220Z",
     "shell.execute_reply.started": "2023-12-14T12:44:04.842035Z",
     "shell.execute_reply": "2023-12-14T12:44:04.861859Z"
    },
    "trusted": true,
    "ExecuteTime": {
     "end_time": "2024-04-25T21:54:25.849433Z",
     "start_time": "2024-04-25T21:54:25.843938Z"
    }
   },
   "outputs": [
    {
     "data": {
      "text/plain": [
       "                1                                                  2\n",
       "0  Thyroid_Cancer  Thyroid surgery in  children in a single insti...\n",
       "1  Thyroid_Cancer  \" The adopted strategy was the same as that us...\n",
       "2  Thyroid_Cancer  coronary arterybypass grafting thrombosis ï¬b...\n",
       "3  Thyroid_Cancer   Solitary plasmacytoma SP of the skull is an u...\n",
       "4  Thyroid_Cancer   This study aimed to investigate serum matrix ..."
      ],
      "text/html": [
       "<div>\n",
       "<style scoped>\n",
       "    .dataframe tbody tr th:only-of-type {\n",
       "        vertical-align: middle;\n",
       "    }\n",
       "\n",
       "    .dataframe tbody tr th {\n",
       "        vertical-align: top;\n",
       "    }\n",
       "\n",
       "    .dataframe thead th {\n",
       "        text-align: right;\n",
       "    }\n",
       "</style>\n",
       "<table border=\"1\" class=\"dataframe\">\n",
       "  <thead>\n",
       "    <tr style=\"text-align: right;\">\n",
       "      <th></th>\n",
       "      <th>1</th>\n",
       "      <th>2</th>\n",
       "    </tr>\n",
       "  </thead>\n",
       "  <tbody>\n",
       "    <tr>\n",
       "      <th>0</th>\n",
       "      <td>Thyroid_Cancer</td>\n",
       "      <td>Thyroid surgery in  children in a single insti...</td>\n",
       "    </tr>\n",
       "    <tr>\n",
       "      <th>1</th>\n",
       "      <td>Thyroid_Cancer</td>\n",
       "      <td>\" The adopted strategy was the same as that us...</td>\n",
       "    </tr>\n",
       "    <tr>\n",
       "      <th>2</th>\n",
       "      <td>Thyroid_Cancer</td>\n",
       "      <td>coronary arterybypass grafting thrombosis ï¬b...</td>\n",
       "    </tr>\n",
       "    <tr>\n",
       "      <th>3</th>\n",
       "      <td>Thyroid_Cancer</td>\n",
       "      <td>Solitary plasmacytoma SP of the skull is an u...</td>\n",
       "    </tr>\n",
       "    <tr>\n",
       "      <th>4</th>\n",
       "      <td>Thyroid_Cancer</td>\n",
       "      <td>This study aimed to investigate serum matrix ...</td>\n",
       "    </tr>\n",
       "  </tbody>\n",
       "</table>\n",
       "</div>"
      ]
     },
     "execution_count": 5,
     "metadata": {},
     "output_type": "execute_result"
    }
   ],
   "execution_count": 5
  },
  {
   "cell_type": "code",
   "source": "df.columns=['labels','text']",
   "metadata": {
    "execution": {
     "iopub.status.busy": "2023-12-14T12:44:04.866821Z",
     "iopub.execute_input": "2023-12-14T12:44:04.867309Z",
     "iopub.status.idle": "2023-12-14T12:44:04.874355Z",
     "shell.execute_reply.started": "2023-12-14T12:44:04.867269Z",
     "shell.execute_reply": "2023-12-14T12:44:04.872829Z"
    },
    "trusted": true,
    "ExecuteTime": {
     "end_time": "2024-04-25T21:54:25.852615Z",
     "start_time": "2024-04-25T21:54:25.850438Z"
    }
   },
   "outputs": [],
   "execution_count": 6
  },
  {
   "cell_type": "code",
   "source": "df.head()",
   "metadata": {
    "execution": {
     "iopub.status.busy": "2023-12-14T12:44:04.875930Z",
     "iopub.execute_input": "2023-12-14T12:44:04.876272Z",
     "iopub.status.idle": "2023-12-14T12:44:04.894367Z",
     "shell.execute_reply.started": "2023-12-14T12:44:04.876244Z",
     "shell.execute_reply": "2023-12-14T12:44:04.893364Z"
    },
    "trusted": true,
    "ExecuteTime": {
     "end_time": "2024-04-25T21:54:25.858039Z",
     "start_time": "2024-04-25T21:54:25.853619Z"
    }
   },
   "outputs": [
    {
     "data": {
      "text/plain": [
       "           labels                                               text\n",
       "0  Thyroid_Cancer  Thyroid surgery in  children in a single insti...\n",
       "1  Thyroid_Cancer  \" The adopted strategy was the same as that us...\n",
       "2  Thyroid_Cancer  coronary arterybypass grafting thrombosis ï¬b...\n",
       "3  Thyroid_Cancer   Solitary plasmacytoma SP of the skull is an u...\n",
       "4  Thyroid_Cancer   This study aimed to investigate serum matrix ..."
      ],
      "text/html": [
       "<div>\n",
       "<style scoped>\n",
       "    .dataframe tbody tr th:only-of-type {\n",
       "        vertical-align: middle;\n",
       "    }\n",
       "\n",
       "    .dataframe tbody tr th {\n",
       "        vertical-align: top;\n",
       "    }\n",
       "\n",
       "    .dataframe thead th {\n",
       "        text-align: right;\n",
       "    }\n",
       "</style>\n",
       "<table border=\"1\" class=\"dataframe\">\n",
       "  <thead>\n",
       "    <tr style=\"text-align: right;\">\n",
       "      <th></th>\n",
       "      <th>labels</th>\n",
       "      <th>text</th>\n",
       "    </tr>\n",
       "  </thead>\n",
       "  <tbody>\n",
       "    <tr>\n",
       "      <th>0</th>\n",
       "      <td>Thyroid_Cancer</td>\n",
       "      <td>Thyroid surgery in  children in a single insti...</td>\n",
       "    </tr>\n",
       "    <tr>\n",
       "      <th>1</th>\n",
       "      <td>Thyroid_Cancer</td>\n",
       "      <td>\" The adopted strategy was the same as that us...</td>\n",
       "    </tr>\n",
       "    <tr>\n",
       "      <th>2</th>\n",
       "      <td>Thyroid_Cancer</td>\n",
       "      <td>coronary arterybypass grafting thrombosis ï¬b...</td>\n",
       "    </tr>\n",
       "    <tr>\n",
       "      <th>3</th>\n",
       "      <td>Thyroid_Cancer</td>\n",
       "      <td>Solitary plasmacytoma SP of the skull is an u...</td>\n",
       "    </tr>\n",
       "    <tr>\n",
       "      <th>4</th>\n",
       "      <td>Thyroid_Cancer</td>\n",
       "      <td>This study aimed to investigate serum matrix ...</td>\n",
       "    </tr>\n",
       "  </tbody>\n",
       "</table>\n",
       "</div>"
      ]
     },
     "execution_count": 7,
     "metadata": {},
     "output_type": "execute_result"
    }
   ],
   "execution_count": 7
  },
  {
   "cell_type": "code",
   "source": "df.isnull().sum()",
   "metadata": {
    "execution": {
     "iopub.status.busy": "2023-12-14T12:44:04.895844Z",
     "iopub.execute_input": "2023-12-14T12:44:04.897205Z",
     "iopub.status.idle": "2023-12-14T12:44:04.909805Z",
     "shell.execute_reply.started": "2023-12-14T12:44:04.897167Z",
     "shell.execute_reply": "2023-12-14T12:44:04.908404Z"
    },
    "trusted": true,
    "ExecuteTime": {
     "end_time": "2024-04-25T21:54:25.862491Z",
     "start_time": "2024-04-25T21:54:25.858039Z"
    }
   },
   "outputs": [
    {
     "data": {
      "text/plain": [
       "labels    0\n",
       "text      0\n",
       "dtype: int64"
      ]
     },
     "execution_count": 8,
     "metadata": {},
     "output_type": "execute_result"
    }
   ],
   "execution_count": 8
  },
  {
   "cell_type": "code",
   "source": "# Checking the length of the data set\nprint(len(df))",
   "metadata": {
    "execution": {
     "iopub.status.busy": "2023-12-14T12:44:04.911339Z",
     "iopub.execute_input": "2023-12-14T12:44:04.911702Z",
     "iopub.status.idle": "2023-12-14T12:44:04.921761Z",
     "shell.execute_reply.started": "2023-12-14T12:44:04.911671Z",
     "shell.execute_reply": "2023-12-14T12:44:04.920556Z"
    },
    "trusted": true,
    "ExecuteTime": {
     "end_time": "2024-04-25T21:54:25.865369Z",
     "start_time": "2024-04-25T21:54:25.862491Z"
    }
   },
   "outputs": [
    {
     "name": "stdout",
     "output_type": "stream",
     "text": [
      "7570\n"
     ]
    }
   ],
   "execution_count": 9
  },
  {
   "cell_type": "code",
   "source": "# Reducing the size of the dataset, selecting only 10k\ndf = df.sample(4000)",
   "metadata": {
    "execution": {
     "iopub.status.busy": "2023-12-14T12:44:04.923305Z",
     "iopub.execute_input": "2023-12-14T12:44:04.923668Z",
     "iopub.status.idle": "2023-12-14T12:44:04.938884Z",
     "shell.execute_reply.started": "2023-12-14T12:44:04.923638Z",
     "shell.execute_reply": "2023-12-14T12:44:04.937860Z"
    },
    "trusted": true,
    "ExecuteTime": {
     "end_time": "2024-04-25T21:54:25.868807Z",
     "start_time": "2024-04-25T21:54:25.865369Z"
    }
   },
   "outputs": [],
   "execution_count": 10
  },
  {
   "cell_type": "code",
   "source": "df.sample(10)",
   "metadata": {
    "execution": {
     "iopub.status.busy": "2023-12-14T12:44:04.940286Z",
     "iopub.execute_input": "2023-12-14T12:44:04.940651Z",
     "iopub.status.idle": "2023-12-14T12:44:04.961800Z",
     "shell.execute_reply.started": "2023-12-14T12:44:04.940621Z",
     "shell.execute_reply": "2023-12-14T12:44:04.960378Z"
    },
    "trusted": true,
    "ExecuteTime": {
     "end_time": "2024-04-25T21:54:25.876642Z",
     "start_time": "2024-04-25T21:54:25.869813Z"
    }
   },
   "outputs": [
    {
     "data": {
      "text/plain": [
       "              labels                                               text\n",
       "7410    Colon_Cancer  \"  ovarian cancer is the second most common gy...\n",
       "2028    Colon_Cancer  \"tea is the second most popular beverage consu...\n",
       "2419     Lung_Cancer  \"To understand the functional consequences of ...\n",
       "7329    Colon_Cancer  \"  african americans aa are at high risk for c...\n",
       "160   Thyroid_Cancer  \"researchWhat are the implications of using in...\n",
       "1458    Colon_Cancer  \" ethnopharmacological  relevance  herba  patr...\n",
       "3256  Thyroid_Cancer  \"Severe COVID19 has a high mortality rate Comp...\n",
       "2060     Lung_Cancer  \"NSCLC and 40 healthy controls were collected....\n",
       "5930    Colon_Cancer  \"  in the current research we have developed s...\n",
       "2427     Lung_Cancer  \" Materials and Methods We examined the anti-t..."
      ],
      "text/html": [
       "<div>\n",
       "<style scoped>\n",
       "    .dataframe tbody tr th:only-of-type {\n",
       "        vertical-align: middle;\n",
       "    }\n",
       "\n",
       "    .dataframe tbody tr th {\n",
       "        vertical-align: top;\n",
       "    }\n",
       "\n",
       "    .dataframe thead th {\n",
       "        text-align: right;\n",
       "    }\n",
       "</style>\n",
       "<table border=\"1\" class=\"dataframe\">\n",
       "  <thead>\n",
       "    <tr style=\"text-align: right;\">\n",
       "      <th></th>\n",
       "      <th>labels</th>\n",
       "      <th>text</th>\n",
       "    </tr>\n",
       "  </thead>\n",
       "  <tbody>\n",
       "    <tr>\n",
       "      <th>7410</th>\n",
       "      <td>Colon_Cancer</td>\n",
       "      <td>\"  ovarian cancer is the second most common gy...</td>\n",
       "    </tr>\n",
       "    <tr>\n",
       "      <th>2028</th>\n",
       "      <td>Colon_Cancer</td>\n",
       "      <td>\"tea is the second most popular beverage consu...</td>\n",
       "    </tr>\n",
       "    <tr>\n",
       "      <th>2419</th>\n",
       "      <td>Lung_Cancer</td>\n",
       "      <td>\"To understand the functional consequences of ...</td>\n",
       "    </tr>\n",
       "    <tr>\n",
       "      <th>7329</th>\n",
       "      <td>Colon_Cancer</td>\n",
       "      <td>\"  african americans aa are at high risk for c...</td>\n",
       "    </tr>\n",
       "    <tr>\n",
       "      <th>160</th>\n",
       "      <td>Thyroid_Cancer</td>\n",
       "      <td>\"researchWhat are the implications of using in...</td>\n",
       "    </tr>\n",
       "    <tr>\n",
       "      <th>1458</th>\n",
       "      <td>Colon_Cancer</td>\n",
       "      <td>\" ethnopharmacological  relevance  herba  patr...</td>\n",
       "    </tr>\n",
       "    <tr>\n",
       "      <th>3256</th>\n",
       "      <td>Thyroid_Cancer</td>\n",
       "      <td>\"Severe COVID19 has a high mortality rate Comp...</td>\n",
       "    </tr>\n",
       "    <tr>\n",
       "      <th>2060</th>\n",
       "      <td>Lung_Cancer</td>\n",
       "      <td>\"NSCLC and 40 healthy controls were collected....</td>\n",
       "    </tr>\n",
       "    <tr>\n",
       "      <th>5930</th>\n",
       "      <td>Colon_Cancer</td>\n",
       "      <td>\"  in the current research we have developed s...</td>\n",
       "    </tr>\n",
       "    <tr>\n",
       "      <th>2427</th>\n",
       "      <td>Lung_Cancer</td>\n",
       "      <td>\" Materials and Methods We examined the anti-t...</td>\n",
       "    </tr>\n",
       "  </tbody>\n",
       "</table>\n",
       "</div>"
      ]
     },
     "execution_count": 11,
     "metadata": {},
     "output_type": "execute_result"
    }
   ],
   "execution_count": 11
  },
  {
   "cell_type": "code",
   "source": "df['targets'] = df['labels'].astype('category').cat.codes",
   "metadata": {
    "id": "DEbN5m6o679m",
    "execution": {
     "iopub.status.busy": "2023-12-14T12:44:04.965709Z",
     "iopub.execute_input": "2023-12-14T12:44:04.966313Z",
     "iopub.status.idle": "2023-12-14T12:44:04.974164Z",
     "shell.execute_reply.started": "2023-12-14T12:44:04.966269Z",
     "shell.execute_reply": "2023-12-14T12:44:04.972989Z"
    },
    "trusted": true,
    "ExecuteTime": {
     "end_time": "2024-04-25T21:54:25.881166Z",
     "start_time": "2024-04-25T21:54:25.877646Z"
    }
   },
   "outputs": [],
   "execution_count": 12
  },
  {
   "cell_type": "code",
   "source": "df.sample(10)",
   "metadata": {
    "colab": {
     "base_uri": "https://localhost:8080/",
     "height": 206
    },
    "id": "BHGZLGYf7GHr",
    "outputId": "ad453dc1-5fe1-4b3c-e523-6775dce47e54",
    "execution": {
     "iopub.status.busy": "2023-12-14T12:44:04.975791Z",
     "iopub.execute_input": "2023-12-14T12:44:04.976209Z",
     "iopub.status.idle": "2023-12-14T12:44:04.992216Z",
     "shell.execute_reply.started": "2023-12-14T12:44:04.976170Z",
     "shell.execute_reply": "2023-12-14T12:44:04.991205Z"
    },
    "trusted": true,
    "ExecuteTime": {
     "end_time": "2024-04-25T21:54:25.887767Z",
     "start_time": "2024-04-25T21:54:25.881166Z"
    }
   },
   "outputs": [
    {
     "data": {
      "text/plain": [
       "              labels                                               text  \\\n",
       "2753  Thyroid_Cancer   The Adler grade by Doppler ultrasound isassoc...   \n",
       "5288     Lung_Cancer  \"We also evaluated chest CT findings to determ...   \n",
       "5834    Colon_Cancer  \"  the ampactivated protein kinase ampk is an ...   \n",
       "6393    Colon_Cancer  \"  many suggest that shared decisionmaking sdm...   \n",
       "4845    Colon_Cancer  \"  mutations in the wilms tumor  gene cause a ...   \n",
       "5268     Lung_Cancer  \"which contains an SH2 domain and two SH3 doma...   \n",
       "2626  Thyroid_Cancer    immuneï¿½related genes pairs signature predi...   \n",
       "889      Lung_Cancer  \"Median PFS in patients with EGFR mutation?pos...   \n",
       "2474     Lung_Cancer  \"CR1 also modulates the complement cascade act...   \n",
       "3504    Colon_Cancer   during the last decade green synthesized ceri...   \n",
       "\n",
       "      targets  \n",
       "2753        2  \n",
       "5288        1  \n",
       "5834        0  \n",
       "6393        0  \n",
       "4845        0  \n",
       "5268        1  \n",
       "2626        2  \n",
       "889         1  \n",
       "2474        1  \n",
       "3504        0  "
      ],
      "text/html": [
       "<div>\n",
       "<style scoped>\n",
       "    .dataframe tbody tr th:only-of-type {\n",
       "        vertical-align: middle;\n",
       "    }\n",
       "\n",
       "    .dataframe tbody tr th {\n",
       "        vertical-align: top;\n",
       "    }\n",
       "\n",
       "    .dataframe thead th {\n",
       "        text-align: right;\n",
       "    }\n",
       "</style>\n",
       "<table border=\"1\" class=\"dataframe\">\n",
       "  <thead>\n",
       "    <tr style=\"text-align: right;\">\n",
       "      <th></th>\n",
       "      <th>labels</th>\n",
       "      <th>text</th>\n",
       "      <th>targets</th>\n",
       "    </tr>\n",
       "  </thead>\n",
       "  <tbody>\n",
       "    <tr>\n",
       "      <th>2753</th>\n",
       "      <td>Thyroid_Cancer</td>\n",
       "      <td>The Adler grade by Doppler ultrasound isassoc...</td>\n",
       "      <td>2</td>\n",
       "    </tr>\n",
       "    <tr>\n",
       "      <th>5288</th>\n",
       "      <td>Lung_Cancer</td>\n",
       "      <td>\"We also evaluated chest CT findings to determ...</td>\n",
       "      <td>1</td>\n",
       "    </tr>\n",
       "    <tr>\n",
       "      <th>5834</th>\n",
       "      <td>Colon_Cancer</td>\n",
       "      <td>\"  the ampactivated protein kinase ampk is an ...</td>\n",
       "      <td>0</td>\n",
       "    </tr>\n",
       "    <tr>\n",
       "      <th>6393</th>\n",
       "      <td>Colon_Cancer</td>\n",
       "      <td>\"  many suggest that shared decisionmaking sdm...</td>\n",
       "      <td>0</td>\n",
       "    </tr>\n",
       "    <tr>\n",
       "      <th>4845</th>\n",
       "      <td>Colon_Cancer</td>\n",
       "      <td>\"  mutations in the wilms tumor  gene cause a ...</td>\n",
       "      <td>0</td>\n",
       "    </tr>\n",
       "    <tr>\n",
       "      <th>5268</th>\n",
       "      <td>Lung_Cancer</td>\n",
       "      <td>\"which contains an SH2 domain and two SH3 doma...</td>\n",
       "      <td>1</td>\n",
       "    </tr>\n",
       "    <tr>\n",
       "      <th>2626</th>\n",
       "      <td>Thyroid_Cancer</td>\n",
       "      <td>immuneï¿½related genes pairs signature predi...</td>\n",
       "      <td>2</td>\n",
       "    </tr>\n",
       "    <tr>\n",
       "      <th>889</th>\n",
       "      <td>Lung_Cancer</td>\n",
       "      <td>\"Median PFS in patients with EGFR mutation?pos...</td>\n",
       "      <td>1</td>\n",
       "    </tr>\n",
       "    <tr>\n",
       "      <th>2474</th>\n",
       "      <td>Lung_Cancer</td>\n",
       "      <td>\"CR1 also modulates the complement cascade act...</td>\n",
       "      <td>1</td>\n",
       "    </tr>\n",
       "    <tr>\n",
       "      <th>3504</th>\n",
       "      <td>Colon_Cancer</td>\n",
       "      <td>during the last decade green synthesized ceri...</td>\n",
       "      <td>0</td>\n",
       "    </tr>\n",
       "  </tbody>\n",
       "</table>\n",
       "</div>"
      ]
     },
     "execution_count": 13,
     "metadata": {},
     "output_type": "execute_result"
    }
   ],
   "execution_count": 13
  },
  {
   "cell_type": "code",
   "source": "df['labels'].value_counts()",
   "metadata": {
    "colab": {
     "base_uri": "https://localhost:8080/"
    },
    "id": "AA34uE0X7K2P",
    "outputId": "00d0a3cc-3132-4351-b89d-7569017d4650",
    "execution": {
     "iopub.status.busy": "2023-12-14T12:44:04.993849Z",
     "iopub.execute_input": "2023-12-14T12:44:04.994278Z",
     "iopub.status.idle": "2023-12-14T12:44:05.009005Z",
     "shell.execute_reply.started": "2023-12-14T12:44:04.994241Z",
     "shell.execute_reply": "2023-12-14T12:44:05.007750Z"
    },
    "trusted": true,
    "ExecuteTime": {
     "end_time": "2024-04-25T21:54:25.892399Z",
     "start_time": "2024-04-25T21:54:25.888773Z"
    }
   },
   "outputs": [
    {
     "data": {
      "text/plain": [
       "labels\n",
       "Thyroid_Cancer    1503\n",
       "Colon_Cancer      1340\n",
       "Lung_Cancer       1157\n",
       "Name: count, dtype: int64"
      ]
     },
     "execution_count": 14,
     "metadata": {},
     "output_type": "execute_result"
    }
   ],
   "execution_count": 14
  },
  {
   "cell_type": "code",
   "source": "# Number of classes\nK = df['targets'].max() + 1\nK",
   "metadata": {
    "colab": {
     "base_uri": "https://localhost:8080/"
    },
    "id": "CQjVYVWP7SHC",
    "outputId": "c7263875-8188-4202-90e2-cdb04c143169",
    "execution": {
     "iopub.status.busy": "2023-12-14T12:44:05.010668Z",
     "iopub.execute_input": "2023-12-14T12:44:05.011673Z",
     "iopub.status.idle": "2023-12-14T12:44:05.021595Z",
     "shell.execute_reply.started": "2023-12-14T12:44:05.011630Z",
     "shell.execute_reply": "2023-12-14T12:44:05.020798Z"
    },
    "trusted": true,
    "ExecuteTime": {
     "end_time": "2024-04-25T21:54:25.896787Z",
     "start_time": "2024-04-25T21:54:25.892399Z"
    }
   },
   "outputs": [
    {
     "data": {
      "text/plain": [
       "3"
      ]
     },
     "execution_count": 15,
     "metadata": {},
     "output_type": "execute_result"
    }
   ],
   "execution_count": 15
  },
  {
   "cell_type": "code",
   "source": "from sklearn.model_selection import train_test_split\n\nrandom_seed = 42\n\ndf_train, df_test = train_test_split(df, test_size=0.3, random_state=random_seed)",
   "metadata": {
    "id": "uEZStIy-7lXY",
    "execution": {
     "iopub.status.busy": "2023-12-14T12:44:05.023011Z",
     "iopub.execute_input": "2023-12-14T12:44:05.023588Z",
     "iopub.status.idle": "2023-12-14T12:44:05.038085Z",
     "shell.execute_reply.started": "2023-12-14T12:44:05.023528Z",
     "shell.execute_reply": "2023-12-14T12:44:05.036980Z"
    },
    "trusted": true,
    "ExecuteTime": {
     "end_time": "2024-04-25T21:54:25.900734Z",
     "start_time": "2024-04-25T21:54:25.896787Z"
    }
   },
   "outputs": [],
   "execution_count": 16
  },
  {
   "cell_type": "code",
   "source": "# Convert sentences to sequences - keeps 2000 most frequent and discard the rest.\nMAX_VOCAB_SIZE = 2000\ntokenizer = Tokenizer(num_words=MAX_VOCAB_SIZE)\n\n# Builds the vocabulary based on the most common words. It assigns a unique integer to each word based on its frequency\ntokenizer.fit_on_texts(df_train['text'])\n\n# Each word in the sentences is replaced by its corresponding integer based on the vocabulary created by the tokenizer.\nsequences_train = tokenizer.texts_to_sequences(df_train['text'])\nsequences_test = tokenizer.texts_to_sequences(df_test['text'])",
   "metadata": {
    "id": "TprsKM9q7tU3",
    "execution": {
     "iopub.status.busy": "2023-12-14T12:44:05.039369Z",
     "iopub.execute_input": "2023-12-14T12:44:05.040432Z",
     "iopub.status.idle": "2023-12-14T12:44:40.559325Z",
     "shell.execute_reply.started": "2023-12-14T12:44:05.040398Z",
     "shell.execute_reply": "2023-12-14T12:44:40.558239Z"
    },
    "trusted": true,
    "ExecuteTime": {
     "end_time": "2024-04-25T21:54:38.279538Z",
     "start_time": "2024-04-25T21:54:25.901740Z"
    }
   },
   "outputs": [],
   "execution_count": 17
  },
  {
   "cell_type": "code",
   "source": "# get total unique words mapped by tokenizer (True size of our unique words)\nword2idx = tokenizer.word_index\nV = len(word2idx)\nprint(f'Found unique words: {V}')",
   "metadata": {
    "colab": {
     "base_uri": "https://localhost:8080/"
    },
    "id": "FNQrjZk69Shx",
    "outputId": "0c826af9-4d2d-4186-8b6c-084b73fe3aba",
    "execution": {
     "iopub.status.busy": "2023-12-14T12:44:40.560910Z",
     "iopub.execute_input": "2023-12-14T12:44:40.561223Z",
     "iopub.status.idle": "2023-12-14T12:44:40.581092Z",
     "shell.execute_reply.started": "2023-12-14T12:44:40.561196Z",
     "shell.execute_reply": "2023-12-14T12:44:40.580022Z"
    },
    "trusted": true,
    "ExecuteTime": {
     "end_time": "2024-04-25T21:54:38.284208Z",
     "start_time": "2024-04-25T21:54:38.279885Z"
    }
   },
   "outputs": [
    {
     "name": "stdout",
     "output_type": "stream",
     "text": [
      "Found unique words: 201521\n"
     ]
    }
   ],
   "execution_count": 18
  },
  {
   "cell_type": "code",
   "source": "# pad sequences so we get a N x T matrix - all the text must have same dimension size\ndata_train = pad_sequences(sequences_train)\nprint(f'Shape of data train tensor: {data_train.shape}')",
   "metadata": {
    "colab": {
     "base_uri": "https://localhost:8080/"
    },
    "id": "xmWqJvUF-0xH",
    "outputId": "bf097add-a2f3-41f6-f772-e43309ff3e21",
    "execution": {
     "iopub.status.busy": "2023-12-14T12:44:40.582468Z",
     "iopub.execute_input": "2023-12-14T12:44:40.582951Z",
     "iopub.status.idle": "2023-12-14T12:44:40.940922Z",
     "shell.execute_reply.started": "2023-12-14T12:44:40.582903Z",
     "shell.execute_reply": "2023-12-14T12:44:40.939740Z"
    },
    "trusted": true,
    "ExecuteTime": {
     "end_time": "2024-04-25T21:54:38.458818Z",
     "start_time": "2024-04-25T21:54:38.285213Z"
    }
   },
   "outputs": [
    {
     "name": "stdout",
     "output_type": "stream",
     "text": [
      "Shape of data train tensor: (2800, 4395)\n"
     ]
    }
   ],
   "execution_count": 19
  },
  {
   "cell_type": "code",
   "source": "data_train",
   "metadata": {
    "colab": {
     "base_uri": "https://localhost:8080/"
    },
    "id": "IZIYMtLO__3e",
    "outputId": "099bd2ab-311c-444f-dbe4-202bd98a5b78",
    "execution": {
     "iopub.status.busy": "2023-12-14T12:44:40.942159Z",
     "iopub.execute_input": "2023-12-14T12:44:40.942482Z",
     "iopub.status.idle": "2023-12-14T12:44:40.951747Z",
     "shell.execute_reply.started": "2023-12-14T12:44:40.942456Z",
     "shell.execute_reply": "2023-12-14T12:44:40.950621Z"
    },
    "trusted": true,
    "ExecuteTime": {
     "end_time": "2024-04-25T21:54:38.462419Z",
     "start_time": "2024-04-25T21:54:38.458818Z"
    }
   },
   "outputs": [
    {
     "data": {
      "text/plain": [
       "array([[   0,    0,    0, ...,  283,    2,   14],\n",
       "       [   0,    0,    0, ...,    5,    3, 1217],\n",
       "       [   0,    0,    0, ...,    1,  719,    2],\n",
       "       ...,\n",
       "       [   0,    0,    0, ...,    7,  178,    4],\n",
       "       [   0,    0,    0, ...,  379,   29,    1],\n",
       "       [   0,    0,    0, ..., 1068,   14,   72]])"
      ]
     },
     "execution_count": 20,
     "metadata": {},
     "output_type": "execute_result"
    }
   ],
   "execution_count": 20
  },
  {
   "cell_type": "code",
   "source": "# Get sequences length\nT = data_train.shape[1]\nT",
   "metadata": {
    "colab": {
     "base_uri": "https://localhost:8080/"
    },
    "id": "KWBpwUiOAX_N",
    "outputId": "3af12601-41e4-4c12-90ca-eb342c1f8296",
    "execution": {
     "iopub.status.busy": "2023-12-14T12:44:40.953012Z",
     "iopub.execute_input": "2023-12-14T12:44:40.953327Z",
     "iopub.status.idle": "2023-12-14T12:44:40.962815Z",
     "shell.execute_reply.started": "2023-12-14T12:44:40.953301Z",
     "shell.execute_reply": "2023-12-14T12:44:40.961961Z"
    },
    "trusted": true,
    "ExecuteTime": {
     "end_time": "2024-04-25T21:54:38.467178Z",
     "start_time": "2024-04-25T21:54:38.463424Z"
    }
   },
   "outputs": [
    {
     "data": {
      "text/plain": [
       "4395"
      ]
     },
     "execution_count": 21,
     "metadata": {},
     "output_type": "execute_result"
    }
   ],
   "execution_count": 21
  },
  {
   "cell_type": "code",
   "source": "data_test = pad_sequences(sequences_test, maxlen=T)\nprint(f'Shape of data test tensor: {data_test.shape}')",
   "metadata": {
    "colab": {
     "base_uri": "https://localhost:8080/"
    },
    "id": "rCW0qZO8AO9v",
    "outputId": "590dc78f-7ede-4d00-d0d9-85a00dfc544d",
    "execution": {
     "iopub.status.busy": "2023-12-14T12:44:40.964163Z",
     "iopub.execute_input": "2023-12-14T12:44:40.964445Z",
     "iopub.status.idle": "2023-12-14T12:44:41.120483Z",
     "shell.execute_reply.started": "2023-12-14T12:44:40.964421Z",
     "shell.execute_reply": "2023-12-14T12:44:41.119227Z"
    },
    "trusted": true,
    "ExecuteTime": {
     "end_time": "2024-04-25T21:54:38.539772Z",
     "start_time": "2024-04-25T21:54:38.467178Z"
    }
   },
   "outputs": [
    {
     "name": "stdout",
     "output_type": "stream",
     "text": [
      "Shape of data test tensor: (1200, 4395)\n"
     ]
    }
   ],
   "execution_count": 22
  },
  {
   "cell_type": "code",
   "source": "# Creating the CNN model\n\n# Choosing embedding dimensionality\nD = 30\n\ni = Input(shape=(T,))\nx = Embedding(V+ 1 ,D)(i)\nx = Conv1D(32,2, strides=1 ,activation='relu')(x)\nx = MaxPooling1D(3)(x)\nx = Conv1D(64,3, activation='relu')(x)\nx = GlobalMaxPooling1D()(x)\nx = Dense(K)(x) # where K is the total of news's labels\n\nmodel = Model(i,x)",
   "metadata": {
    "id": "Iy3p7vTyAr6d",
    "execution": {
     "iopub.status.busy": "2023-12-14T12:44:41.121811Z",
     "iopub.execute_input": "2023-12-14T12:44:41.122165Z",
     "iopub.status.idle": "2023-12-14T12:44:41.281913Z",
     "shell.execute_reply.started": "2023-12-14T12:44:41.122136Z",
     "shell.execute_reply": "2023-12-14T12:44:41.280958Z"
    },
    "trusted": true,
    "ExecuteTime": {
     "end_time": "2024-04-25T21:54:38.764454Z",
     "start_time": "2024-04-25T21:54:38.540777Z"
    }
   },
   "outputs": [
    {
     "name": "stdout",
     "output_type": "stream",
     "text": [
      "WARNING:tensorflow:From C:\\Users\\irfan\\AppData\\Local\\Programs\\Python\\Python311\\Lib\\site-packages\\keras\\src\\backend.py:1398: The name tf.executing_eagerly_outside_functions is deprecated. Please use tf.compat.v1.executing_eagerly_outside_functions instead.\n",
      "\n",
      "WARNING:tensorflow:From C:\\Users\\irfan\\AppData\\Local\\Programs\\Python\\Python311\\Lib\\site-packages\\keras\\src\\backend.py:6642: The name tf.nn.max_pool is deprecated. Please use tf.nn.max_pool2d instead.\n",
      "\n"
     ]
    }
   ],
   "execution_count": 23
  },
  {
   "cell_type": "code",
   "source": "# Compile and Fit the model\nmodel.compile(\n    loss=SparseCategoricalCrossentropy(from_logits=True),\n    optimizer='adam',\n    metrics=['accuracy']\n)\n\nprint('Training the model...')\nr = model.fit(\n    data_train,\n    df_train['targets'],\n    epochs = 20,\n    validation_data=(data_test, df_test['targets'])\n)",
   "metadata": {
    "colab": {
     "base_uri": "https://localhost:8080/"
    },
    "id": "GQuX8AU5C1Cq",
    "outputId": "f16eeacc-d229-479a-8fa3-162af5462372",
    "execution": {
     "iopub.status.busy": "2023-12-14T12:44:41.283690Z",
     "iopub.execute_input": "2023-12-14T12:44:41.284449Z",
     "iopub.status.idle": "2023-12-14T12:49:04.197107Z",
     "shell.execute_reply.started": "2023-12-14T12:44:41.284409Z",
     "shell.execute_reply": "2023-12-14T12:49:04.195675Z"
    },
    "trusted": true,
    "ExecuteTime": {
     "end_time": "2024-04-25T21:55:47.402673Z",
     "start_time": "2024-04-25T21:54:38.764454Z"
    }
   },
   "outputs": [
    {
     "name": "stdout",
     "output_type": "stream",
     "text": [
      "WARNING:tensorflow:From C:\\Users\\irfan\\AppData\\Local\\Programs\\Python\\Python311\\Lib\\site-packages\\keras\\src\\optimizers\\__init__.py:309: The name tf.train.Optimizer is deprecated. Please use tf.compat.v1.train.Optimizer instead.\n",
      "\n",
      "Training the model...\n",
      "Epoch 1/20\n",
      "WARNING:tensorflow:From C:\\Users\\irfan\\AppData\\Local\\Programs\\Python\\Python311\\Lib\\site-packages\\keras\\src\\utils\\tf_utils.py:492: The name tf.ragged.RaggedTensorValue is deprecated. Please use tf.compat.v1.ragged.RaggedTensorValue instead.\n",
      "\n",
      "WARNING:tensorflow:From C:\\Users\\irfan\\AppData\\Local\\Programs\\Python\\Python311\\Lib\\site-packages\\keras\\src\\engine\\base_layer_utils.py:384: The name tf.executing_eagerly_outside_functions is deprecated. Please use tf.compat.v1.executing_eagerly_outside_functions instead.\n",
      "\n",
      "88/88 [==============================] - 4s 41ms/step - loss: 1.0273 - accuracy: 0.4236 - val_loss: 0.7741 - val_accuracy: 0.7875\n",
      "Epoch 2/20\n",
      "88/88 [==============================] - 3s 38ms/step - loss: 0.4347 - accuracy: 0.8361 - val_loss: 0.3289 - val_accuracy: 0.8617\n",
      "Epoch 3/20\n",
      "88/88 [==============================] - 3s 38ms/step - loss: 0.2900 - accuracy: 0.8732 - val_loss: 0.2553 - val_accuracy: 0.9058\n",
      "Epoch 4/20\n",
      "88/88 [==============================] - 3s 38ms/step - loss: 0.1653 - accuracy: 0.9482 - val_loss: 0.1217 - val_accuracy: 0.9675\n",
      "Epoch 5/20\n",
      "88/88 [==============================] - 3s 38ms/step - loss: 0.0707 - accuracy: 0.9857 - val_loss: 0.0646 - val_accuracy: 0.9867\n",
      "Epoch 6/20\n",
      "88/88 [==============================] - 3s 38ms/step - loss: 0.0366 - accuracy: 0.9914 - val_loss: 0.0416 - val_accuracy: 0.9883\n",
      "Epoch 7/20\n",
      "88/88 [==============================] - 3s 38ms/step - loss: 0.0228 - accuracy: 0.9939 - val_loss: 0.0331 - val_accuracy: 0.9883\n",
      "Epoch 8/20\n",
      "88/88 [==============================] - 3s 38ms/step - loss: 0.0190 - accuracy: 0.9943 - val_loss: 0.0249 - val_accuracy: 0.9917\n",
      "Epoch 9/20\n",
      "88/88 [==============================] - 3s 39ms/step - loss: 0.0143 - accuracy: 0.9961 - val_loss: 0.0259 - val_accuracy: 0.9883\n",
      "Epoch 10/20\n",
      "88/88 [==============================] - 3s 38ms/step - loss: 0.0123 - accuracy: 0.9961 - val_loss: 0.0229 - val_accuracy: 0.9917\n",
      "Epoch 11/20\n",
      "88/88 [==============================] - 3s 38ms/step - loss: 0.0121 - accuracy: 0.9954 - val_loss: 0.0248 - val_accuracy: 0.9883\n",
      "Epoch 12/20\n",
      "88/88 [==============================] - 3s 38ms/step - loss: 0.0151 - accuracy: 0.9939 - val_loss: 0.0254 - val_accuracy: 0.9925\n",
      "Epoch 13/20\n",
      "88/88 [==============================] - 3s 39ms/step - loss: 0.0143 - accuracy: 0.9943 - val_loss: 0.0283 - val_accuracy: 0.9933\n",
      "Epoch 14/20\n",
      "88/88 [==============================] - 3s 38ms/step - loss: 0.0137 - accuracy: 0.9957 - val_loss: 0.0220 - val_accuracy: 0.9933\n",
      "Epoch 15/20\n",
      "88/88 [==============================] - 3s 39ms/step - loss: 0.0113 - accuracy: 0.9954 - val_loss: 0.0317 - val_accuracy: 0.9867\n",
      "Epoch 16/20\n",
      "88/88 [==============================] - 3s 39ms/step - loss: 0.0159 - accuracy: 0.9954 - val_loss: 0.0209 - val_accuracy: 0.9925\n",
      "Epoch 17/20\n",
      "88/88 [==============================] - 3s 39ms/step - loss: 0.0135 - accuracy: 0.9939 - val_loss: 0.0217 - val_accuracy: 0.9917\n",
      "Epoch 18/20\n",
      "88/88 [==============================] - 3s 39ms/step - loss: 0.0129 - accuracy: 0.9939 - val_loss: 0.0216 - val_accuracy: 0.9933\n",
      "Epoch 19/20\n",
      "88/88 [==============================] - 3s 39ms/step - loss: 0.0124 - accuracy: 0.9939 - val_loss: 0.0304 - val_accuracy: 0.9892\n",
      "Epoch 20/20\n",
      "88/88 [==============================] - 3s 38ms/step - loss: 0.0155 - accuracy: 0.9946 - val_loss: 0.0238 - val_accuracy: 0.9892\n"
     ]
    }
   ],
   "execution_count": 24
  },
  {
   "cell_type": "code",
   "source": "# Checking loss per itartion\nplt.plot(r.history['loss'], label='train loss')\nplt.plot(r.history['val_loss'], label='val loss')\nplt.legend();",
   "metadata": {
    "colab": {
     "base_uri": "https://localhost:8080/",
     "height": 430
    },
    "id": "PsLll5hpGGol",
    "outputId": "017d2f10-7b03-4bf8-d5c1-48d73555e835",
    "execution": {
     "iopub.status.busy": "2023-12-14T12:49:04.200006Z",
     "iopub.execute_input": "2023-12-14T12:49:04.200488Z",
     "iopub.status.idle": "2023-12-14T12:49:04.524344Z",
     "shell.execute_reply.started": "2023-12-14T12:49:04.200452Z",
     "shell.execute_reply": "2023-12-14T12:49:04.522956Z"
    },
    "trusted": true,
    "ExecuteTime": {
     "end_time": "2024-04-25T21:55:47.529818Z",
     "start_time": "2024-04-25T21:55:47.403678Z"
    }
   },
   "outputs": [
    {
     "data": {
      "text/plain": [
       "<Figure size 640x480 with 1 Axes>"
      ],
      "image/png": "[encoded data removed]"
     },
     "metadata": {},
     "output_type": "display_data"
    }
   ],
   "execution_count": 25
  },
  {
   "cell_type": "code",
   "source": "# Plot accuracy per iteration\nplt.plot(r.history['accuracy'], label='train acc')\nplt.plot(r.history['val_accuracy'], label='val acc')\nplt.legend();",
   "metadata": {
    "colab": {
     "base_uri": "https://localhost:8080/",
     "height": 430
    },
    "id": "Otc0ELA3GcLx",
    "outputId": "06e88ea6-8540-4c6b-a8fc-657c88b2b8d9",
    "execution": {
     "iopub.status.busy": "2023-12-14T12:49:04.526050Z",
     "iopub.execute_input": "2023-12-14T12:49:04.526521Z",
     "iopub.status.idle": "2023-12-14T12:49:04.832587Z",
     "shell.execute_reply.started": "2023-12-14T12:49:04.526482Z",
     "shell.execute_reply": "2023-12-14T12:49:04.831356Z"
    },
    "trusted": true,
    "ExecuteTime": {
     "end_time": "2024-04-25T21:55:47.649350Z",
     "start_time": "2024-04-25T21:55:47.529818Z"
    }
   },
   "outputs": [
    {
     "data": {
      "text/plain": [
       "<Figure size 640x480 with 1 Axes>"
      ],
      "image/png": "[encoded data removed]"
     },
     "metadata": {},
     "output_type": "display_data"
    }
   ],
   "execution_count": 26
  },
  {
   "cell_type": "code",
   "source": "\nfrom sklearn.metrics import classification_report\n\n\npredictions = model.predict(data_test)\ny_pred = np.argmax(predictions, axis=1)  # Convert logits to class labels\n\n# Get true labels\ny_true = df_test['targets']\n\n# Generate classification report\nreport = classification_report(y_true, y_pred)\nprint(report)\n\n\n",
   "metadata": {
    "colab": {
     "base_uri": "https://localhost:8080/"
    },
    "id": "CX5qs5d8mcmw",
    "outputId": "3f3672a4-7a17-4683-b325-78db8139fd47",
    "execution": {
     "iopub.status.busy": "2023-12-14T12:49:04.834288Z",
     "iopub.execute_input": "2023-12-14T12:49:04.834767Z",
     "iopub.status.idle": "2023-12-14T12:49:05.791412Z",
     "shell.execute_reply.started": "2023-12-14T12:49:04.834728Z",
     "shell.execute_reply": "2023-12-14T12:49:05.789973Z"
    },
    "trusted": true,
    "ExecuteTime": {
     "end_time": "2024-04-25T21:55:47.976911Z",
     "start_time": "2024-04-25T21:55:47.650455Z"
    }
   },
   "outputs": [
    {
     "name": "stdout",
     "output_type": "stream",
     "text": [
      "38/38 [==============================] - 0s 5ms/step\n",
      "              precision    recall  f1-score   support\n",
      "\n",
      "           0       0.99      0.98      0.98       402\n",
      "           1       1.00      0.99      0.99       352\n",
      "           2       0.98      1.00      0.99       446\n",
      "\n",
      "    accuracy                           0.99      1200\n",
      "   macro avg       0.99      0.99      0.99      1200\n",
      "weighted avg       0.99      0.99      0.99      1200\n",
      "\n"
     ]
    }
   ],
   "execution_count": 27
  },
  {
   "cell_type": "code",
   "source": "classes = df['targets'].unique()",
   "metadata": {
    "id": "2IbA60UAOm7K",
    "execution": {
     "iopub.status.busy": "2023-12-14T12:49:05.793036Z",
     "iopub.execute_input": "2023-12-14T12:49:05.793415Z",
     "iopub.status.idle": "2023-12-14T12:49:05.799564Z",
     "shell.execute_reply.started": "2023-12-14T12:49:05.793385Z",
     "shell.execute_reply": "2023-12-14T12:49:05.798283Z"
    },
    "trusted": true,
    "ExecuteTime": {
     "end_time": "2024-04-25T21:55:47.980464Z",
     "start_time": "2024-04-25T21:55:47.978020Z"
    }
   },
   "outputs": [],
   "execution_count": 28
  },
  {
   "cell_type": "code",
   "source": "from sklearn.metrics import confusion_matrix\nimport seaborn as sns\n\nlabel_mapping = {\n    0: 'Colon_Cancer',\n    1: 'Lung_Cancer',\n    2: 'Thyroid_Cancer'\n    \n}\nmarks = np.arange(len(label_mapping))\n\ncm = confusion_matrix(y_true, y_pred)\ndf_cm = pd.DataFrame(cm, index=[label_mapping[i] for i in label_mapping] , columns = [label_mapping[i] for i in label_mapping])\n\nplt.figure(figsize=(8, 6))\nplt.xlabel('Predicted')\nplt.ylabel('True')\nsns.heatmap(df_cm, annot=True, annot_kws={\"size\": 16}, fmt='d', cmap='Blues')\n\nplt.show()",
   "metadata": {
    "colab": {
     "base_uri": "https://localhost:8080/",
     "height": 539
    },
    "id": "1WI41mDSmtFe",
    "outputId": "a6977aab-bccc-48d2-b0f6-673942e26c9d",
    "execution": {
     "iopub.status.busy": "2023-12-14T12:49:05.800943Z",
     "iopub.execute_input": "2023-12-14T12:49:05.801348Z",
     "iopub.status.idle": "2023-12-14T12:49:06.113861Z",
     "shell.execute_reply.started": "2023-12-14T12:49:05.801316Z",
     "shell.execute_reply": "2023-12-14T12:49:06.112572Z"
    },
    "trusted": true,
    "ExecuteTime": {
     "end_time": "2024-04-25T21:55:48.084611Z",
     "start_time": "2024-04-25T21:55:47.982577Z"
    }
   },
   "outputs": [
    {
     "data": {
      "text/plain": [
       "<Figure size 800x600 with 2 Axes>"
      ],
      "image/png": "[encoded data removed]"
     },
     "metadata": {},
     "output_type": "display_data"
    }
   ],
   "execution_count": 29
  },
  {
   "cell_type": "code",
   "source": "# Creating the model for RNN (LSTM)\n\ni = Input(shape=(T,)) # T = Sequence Length\nx = Embedding(V+1,D)(i) # symbolic representation of the input data that will be passed through the layers of the neural network\nx = LSTM(32, return_sequences=True)(x)\nx = GlobalMaxPool1D()(x)\nx = Dense(K)(x)\n\nmodel = Model(i,x)\n\n",
   "metadata": {
    "id": "JgMEQYivPZ_W",
    "execution": {
     "iopub.status.busy": "2023-12-14T12:49:06.119791Z",
     "iopub.execute_input": "2023-12-14T12:49:06.120415Z",
     "iopub.status.idle": "2023-12-14T12:49:06.451158Z",
     "shell.execute_reply.started": "2023-12-14T12:49:06.120321Z",
     "shell.execute_reply": "2023-12-14T12:49:06.449857Z"
    },
    "trusted": true,
    "ExecuteTime": {
     "end_time": "2024-04-25T21:55:48.325711Z",
     "start_time": "2024-04-25T21:55:48.084611Z"
    }
   },
   "outputs": [],
   "execution_count": 30
  },
  {
   "cell_type": "code",
   "source": "# Compile and fit\nmodel.compile(\n  loss=SparseCategoricalCrossentropy(from_logits=True),\n  optimizer='adam',\n  metrics=['accuracy']\n)\n\n\nprint('Training model...')\n\nr_rnn = model.fit(\n  data_train,\n  df_train['targets'],\n  epochs=20,\n  validation_data=(data_test, df_test['targets'])\n)",
   "metadata": {
    "colab": {
     "base_uri": "https://localhost:8080/"
    },
    "id": "GUNESyTNQAqO",
    "outputId": "9beb63a6-3759-4aa8-b1a4-2edc15d6d830",
    "execution": {
     "iopub.status.busy": "2023-12-14T12:49:06.452528Z",
     "iopub.execute_input": "2023-12-14T12:49:06.452883Z",
     "iopub.status.idle": "2023-12-14T14:30:31.918948Z",
     "shell.execute_reply.started": "2023-12-14T12:49:06.452856Z",
     "shell.execute_reply": "2023-12-14T14:30:31.917825Z"
    },
    "trusted": true,
    "ExecuteTime": {
     "end_time": "2024-04-25T22:38:13.929513Z",
     "start_time": "2024-04-25T21:55:48.326771Z"
    }
   },
   "outputs": [
    {
     "name": "stdout",
     "output_type": "stream",
     "text": [
      "Training model...\n",
      "Epoch 1/20\n",
      "88/88 [==============================] - 110s 1s/step - loss: 0.9589 - accuracy: 0.4950 - val_loss: 1.8072 - val_accuracy: 0.2958\n",
      "Epoch 2/20\n",
      "88/88 [==============================] - 109s 1s/step - loss: 0.7241 - accuracy: 0.7193 - val_loss: 0.5142 - val_accuracy: 0.8833\n",
      "Epoch 3/20\n",
      "88/88 [==============================] - 108s 1s/step - loss: 0.4875 - accuracy: 0.8743 - val_loss: 0.4434 - val_accuracy: 0.8808\n",
      "Epoch 4/20\n",
      "88/88 [==============================] - 107s 1s/step - loss: 0.4514 - accuracy: 0.8679 - val_loss: 0.3910 - val_accuracy: 0.8833\n",
      "Epoch 5/20\n",
      "88/88 [==============================] - 107s 1s/step - loss: 0.3512 - accuracy: 0.8893 - val_loss: 0.3264 - val_accuracy: 0.9008\n",
      "Epoch 6/20\n",
      "88/88 [==============================] - 106s 1s/step - loss: 0.2857 - accuracy: 0.9189 - val_loss: 0.2727 - val_accuracy: 0.9200\n",
      "Epoch 7/20\n",
      "88/88 [==============================] - 106s 1s/step - loss: 0.2284 - accuracy: 0.9371 - val_loss: 0.2257 - val_accuracy: 0.9350\n",
      "Epoch 8/20\n",
      "88/88 [==============================] - 106s 1s/step - loss: 0.2110 - accuracy: 0.9314 - val_loss: 0.2444 - val_accuracy: 0.9200\n",
      "Epoch 9/20\n",
      "88/88 [==============================] - 106s 1s/step - loss: 0.1866 - accuracy: 0.9443 - val_loss: 0.1893 - val_accuracy: 0.9383\n",
      "Epoch 10/20\n",
      "88/88 [==============================] - 106s 1s/step - loss: 0.1528 - accuracy: 0.9518 - val_loss: 0.1609 - val_accuracy: 0.9450\n",
      "Epoch 11/20\n",
      "88/88 [==============================] - 107s 1s/step - loss: 0.1341 - accuracy: 0.9575 - val_loss: 0.1603 - val_accuracy: 0.9417\n",
      "Epoch 12/20\n",
      "88/88 [==============================] - 135s 2s/step - loss: 0.1191 - accuracy: 0.9629 - val_loss: 0.1359 - val_accuracy: 0.9525\n",
      "Epoch 13/20\n",
      "88/88 [==============================] - 215s 2s/step - loss: 0.1289 - accuracy: 0.9536 - val_loss: 0.1579 - val_accuracy: 0.9533\n",
      "Epoch 14/20\n",
      "88/88 [==============================] - 213s 2s/step - loss: 0.1105 - accuracy: 0.9686 - val_loss: 0.1138 - val_accuracy: 0.9708\n",
      "Epoch 15/20\n",
      "88/88 [==============================] - 172s 2s/step - loss: 0.0870 - accuracy: 0.9736 - val_loss: 0.0941 - val_accuracy: 0.9700\n",
      "Epoch 16/20\n",
      "88/88 [==============================] - 110s 1s/step - loss: 0.0765 - accuracy: 0.9714 - val_loss: 0.0837 - val_accuracy: 0.9733\n",
      "Epoch 17/20\n",
      "88/88 [==============================] - 111s 1s/step - loss: 0.0689 - accuracy: 0.9775 - val_loss: 0.0775 - val_accuracy: 0.9725\n",
      "Epoch 18/20\n",
      "88/88 [==============================] - 109s 1s/step - loss: 0.0633 - accuracy: 0.9743 - val_loss: 0.0715 - val_accuracy: 0.9775\n",
      "Epoch 19/20\n",
      "88/88 [==============================] - 109s 1s/step - loss: 0.0590 - accuracy: 0.9761 - val_loss: 0.0649 - val_accuracy: 0.9783\n",
      "Epoch 20/20\n",
      "88/88 [==============================] - 194s 2s/step - loss: 0.0609 - accuracy: 0.9779 - val_loss: 0.0633 - val_accuracy: 0.9800\n"
     ]
    }
   ],
   "execution_count": 31
  },
  {
   "cell_type": "code",
   "source": "predictions = model.predict(data_test)\ny_pred = np.argmax(predictions, axis=1)  # Convert logits to class labels\n\n# Get true labels\ny_true = df_test['targets']\n\n# Generate classification report\nreport = classification_report(y_true, y_pred)\nprint(report)",
   "metadata": {
    "colab": {
     "base_uri": "https://localhost:8080/"
    },
    "id": "qsgj09iZKpMz",
    "outputId": "09e1f50e-07ed-4241-c869-729a49f282d3",
    "execution": {
     "iopub.status.busy": "2023-12-14T14:30:31.921109Z",
     "iopub.execute_input": "2023-12-14T14:30:31.922846Z",
     "iopub.status.idle": "2023-12-14T14:30:45.872146Z",
     "shell.execute_reply.started": "2023-12-14T14:30:31.922790Z",
     "shell.execute_reply": "2023-12-14T14:30:45.871029Z"
    },
    "trusted": true,
    "ExecuteTime": {
     "end_time": "2024-04-25T22:38:24.475129Z",
     "start_time": "2024-04-25T22:38:13.930630Z"
    }
   },
   "outputs": [
    {
     "name": "stdout",
     "output_type": "stream",
     "text": [
      "38/38 [==============================] - 10s 261ms/step\n",
      "              precision    recall  f1-score   support\n",
      "\n",
      "           0       0.98      0.96      0.97       402\n",
      "           1       1.00      1.00      1.00       352\n",
      "           2       0.97      0.98      0.97       446\n",
      "\n",
      "    accuracy                           0.98      1200\n",
      "   macro avg       0.98      0.98      0.98      1200\n",
      "weighted avg       0.98      0.98      0.98      1200\n",
      "\n"
     ]
    }
   ],
   "execution_count": 32
  },
  {
   "cell_type": "code",
   "source": "# Checking loss per itartion\nplt.plot(r_rnn.history['loss'], label='train loss')\nplt.plot(r_rnn.history['val_loss'], label='val loss')\nplt.legend();",
   "metadata": {
    "colab": {
     "base_uri": "https://localhost:8080/",
     "height": 430
    },
    "id": "-YUUHrKHK71C",
    "outputId": "d8f9fd7d-6822-4396-c478-323bbc86f0c3",
    "execution": {
     "iopub.status.busy": "2023-12-14T14:30:45.873432Z",
     "iopub.execute_input": "2023-12-14T14:30:45.873773Z",
     "iopub.status.idle": "2023-12-14T14:30:46.156586Z",
     "shell.execute_reply.started": "2023-12-14T14:30:45.873742Z",
     "shell.execute_reply": "2023-12-14T14:30:46.155585Z"
    },
    "trusted": true,
    "ExecuteTime": {
     "end_time": "2024-04-25T22:38:24.661945Z",
     "start_time": "2024-04-25T22:38:24.477290Z"
    }
   },
   "outputs": [
    {
     "data": {
      "text/plain": [
       "<Figure size 640x480 with 1 Axes>"
      ],
      "image/png": "[encoded data removed]"
     },
     "metadata": {},
     "output_type": "display_data"
    }
   ],
   "execution_count": 33
  },
  {
   "cell_type": "code",
   "source": "# Plot accuracy per iteration\nplt.plot(r_rnn.history['accuracy'], label='train acc')\nplt.plot(r_rnn.history['val_accuracy'], label='val acc')\nplt.legend();",
   "metadata": {
    "colab": {
     "base_uri": "https://localhost:8080/",
     "height": 430
    },
    "id": "_nFwHGjELEkS",
    "outputId": "239844b7-6d6b-4356-eaca-6db9ddc07752",
    "execution": {
     "iopub.status.busy": "2023-12-14T14:30:46.157765Z",
     "iopub.execute_input": "2023-12-14T14:30:46.158058Z",
     "iopub.status.idle": "2023-12-14T14:30:46.444126Z",
     "shell.execute_reply.started": "2023-12-14T14:30:46.158033Z",
     "shell.execute_reply": "2023-12-14T14:30:46.442898Z"
    },
    "trusted": true,
    "ExecuteTime": {
     "end_time": "2024-04-25T22:38:24.917450Z",
     "start_time": "2024-04-25T22:38:24.663063Z"
    }
   },
   "outputs": [
    {
     "data": {
      "text/plain": [
       "<Figure size 640x480 with 1 Axes>"
      ],
      "image/png": "[encoded data removed]"
     },
     "metadata": {},
     "output_type": "display_data"
    }
   ],
   "execution_count": 34
  },
  {
   "cell_type": "code",
   "source": "label_mapping = {\n    0: 'Colon_Cancer',\n    1: 'Lung_Cancer',\n    2: 'Thyroid_Cancer'\n    \n}\nmarks = np.arange(len(label_mapping))\n\ncm = confusion_matrix(y_true, y_pred)\ndf_cm = pd.DataFrame(cm, index=[label_mapping[i] for i in label_mapping] , columns = [label_mapping[i] for i in label_mapping])\n\nplt.figure(figsize=(8, 6))\nplt.xlabel('Predicted')\nplt.ylabel('True')\nsns.heatmap(df_cm, annot=True, annot_kws={\"size\": 16}, fmt='d', cmap='Blues')\n\nplt.show()",
   "metadata": {
    "colab": {
     "base_uri": "https://localhost:8080/",
     "height": 539
    },
    "id": "__p-W9jxLJ0Z",
    "outputId": "4efc60eb-4d84-4ac3-c6c1-29ac649d13cb",
    "execution": {
     "iopub.status.busy": "2023-12-14T14:30:46.445641Z",
     "iopub.execute_input": "2023-12-14T14:30:46.445952Z",
     "iopub.status.idle": "2023-12-14T14:30:46.755393Z",
     "shell.execute_reply.started": "2023-12-14T14:30:46.445926Z",
     "shell.execute_reply": "2023-12-14T14:30:46.754306Z"
    },
    "trusted": true,
    "ExecuteTime": {
     "end_time": "2024-04-25T22:38:25.313735Z",
     "start_time": "2024-04-25T22:38:24.918511Z"
    }
   },
   "outputs": [
    {
     "data": {
      "text/plain": [
       "<Figure size 800x600 with 2 Axes>"
      ],
      "image/png": "[encoded data removed]"
     },
     "metadata": {},
     "output_type": "display_data"
    }
   ],
   "execution_count": 35
  },
  {
   "metadata": {
    "ExecuteTime": {
     "end_time": "2024-04-25T22:44:32.744074Z",
     "start_time": "2024-04-25T22:44:32.484063Z"
    }
   },
   "cell_type": "code",
   "source": [
    "# Save the model\n",
    "model.save('model.h5')\n",
    "model.save('model.keras')"
   ],
   "outputs": [
    {
     "name": "stderr",
     "output_type": "stream",
     "text": [
      "C:\\Users\\irfan\\AppData\\Local\\Programs\\Python\\Python311\\Lib\\site-packages\\keras\\src\\engine\\training.py:3103: UserWarning: You are saving your model as an HDF5 file via `model.save()`. This file format is considered legacy. We recommend using instead the native Keras format, e.g. `model.save('my_model.keras')`.\n",
      "  saving_api.save_model(\n"
     ]
    }
   ],
   "execution_count": 37
  },
  {
   "metadata": {},
   "cell_type": "code",
   "outputs": [],
   "execution_count": null,
   "source": ""
  }
 ]
}
